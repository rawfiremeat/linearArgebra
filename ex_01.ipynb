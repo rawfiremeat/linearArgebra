{
 "cells": [
  {
   "cell_type": "code",
   "execution_count": 25,
   "metadata": {},
   "outputs": [],
   "source": [
    "import numpy as np\n"
   ]
  },
  {
   "cell_type": "code",
   "execution_count": 33,
   "metadata": {},
   "outputs": [
    {
     "data": {
      "text/plain": [
       "array([[104, 105, 106],\n",
       "       [ 24,  25,  26],\n",
       "       [ 34,  35,  36]])"
      ]
     },
     "execution_count": 33,
     "metadata": {},
     "output_type": "execute_result"
    }
   ],
   "source": [
    "v = np.array([[4,5,6]])\n",
    "w = np.array([[100,20,30]]).T\n",
    "\n",
    "v + w"
   ]
  },
  {
   "cell_type": "markdown",
   "metadata": {},
   "source": [
    "# ex01"
   ]
  },
  {
   "cell_type": "code",
   "execution_count": 26,
   "metadata": {},
   "outputs": [
    {
     "data": {
      "text/plain": [
       "array([ 5, -4])"
      ]
     },
     "execution_count": 26,
     "metadata": {},
     "output_type": "execute_result"
    }
   ],
   "source": [
    "v = np.array([1, 2])\n",
    "w = np.array([4, -6])\n",
    "\n",
    "v + w"
   ]
  },
  {
   "cell_type": "code",
   "execution_count": 27,
   "metadata": {},
   "outputs": [
    {
     "name": "stdout",
     "output_type": "stream",
     "text": [
      "1.0\n",
      "3.7416573867739413 3.7416573867739413\n"
     ]
    }
   ],
   "source": [
    "def calcVecNorm(v):\n",
    "    return np.sqrt(sum([v1**2 for v1 in v]))\n",
    "\n",
    "w = np.array([0,0,1])\n",
    "print( calcVecNorm(w) )\n",
    "\n",
    "w = np.array([1,2,3])\n",
    "print( calcVecNorm(w),np.linalg.norm(w) )"
   ]
  },
  {
   "cell_type": "markdown",
   "metadata": {},
   "source": [
    "# ex 3"
   ]
  },
  {
   "cell_type": "code",
   "execution_count": 28,
   "metadata": {},
   "outputs": [
    {
     "name": "stdout",
     "output_type": "stream",
     "text": [
      "[nan nan nan]\n"
     ]
    },
    {
     "name": "stderr",
     "output_type": "stream",
     "text": [
      "C:\\Users\\5jun99\\AppData\\Local\\Temp\\ipykernel_5840\\3156300470.py:2: RuntimeWarning: invalid value encountered in divide\n",
      "  return V / calcVecNorm(V)\n"
     ]
    }
   ],
   "source": [
    "def calcDanVec(V):\n",
    "    return V / calcVecNorm(V)\n",
    "w = np.array([0,0,0])\n",
    "print(calcDanVec(w))\n",
    "# 답은 nan nan nan\n"
   ]
  },
  {
   "cell_type": "markdown",
   "metadata": {},
   "source": [
    "# ex 4"
   ]
  },
  {
   "cell_type": "code",
   "execution_count": 29,
   "metadata": {},
   "outputs": [
    {
     "name": "stdout",
     "output_type": "stream",
     "text": [
      "[11.3137085   4.35142635 10.44342323]\n"
     ]
    }
   ],
   "source": [
    "def calcSomeVec(size, V):\n",
    "    return size * calcDanVec(V)\n",
    "a = 16\n",
    "v = np.array([13, 5, 12])\n",
    "print(calcSomeVec(a, v))"
   ]
  },
  {
   "cell_type": "markdown",
   "metadata": {},
   "source": [
    "# ex 5\n"
   ]
  },
  {
   "cell_type": "code",
   "execution_count": 30,
   "metadata": {},
   "outputs": [
    {
     "data": {
      "text/plain": [
       "array([[13.],\n",
       "       [ 5.],\n",
       "       [12.]])"
      ]
     },
     "execution_count": 30,
     "metadata": {},
     "output_type": "execute_result"
    }
   ],
   "source": [
    "v = np.array([[13, 5, 12]])\n",
    "vt = np.zeros((3,1))\n",
    "\n",
    "for i in range( len(v[0])):\n",
    "    vt[i][0] = v[0][i]\n",
    "    \n",
    "vt"
   ]
  },
  {
   "cell_type": "markdown",
   "metadata": {},
   "source": [
    "# ex 6\n"
   ]
  },
  {
   "cell_type": "code",
   "execution_count": 31,
   "metadata": {},
   "outputs": [
    {
     "name": "stdout",
     "output_type": "stream",
     "text": [
      "2.8722700172206257\n",
      "2.872270017220626\n"
     ]
    }
   ],
   "source": [
    "\n",
    "# some vector\n",
    "c = np.random.randn(5)\n",
    "\n",
    "# squared norm as dot product with itself\n",
    "sqrNrm1 = np.dot(c,c)\n",
    "\n",
    "# squared norm via our function from exercise 1\n",
    "sqrNrm2 = calcVecNorm(c)**2\n",
    "\n",
    "# print both to confirm they're the same\n",
    "print( sqrNrm1 )\n",
    "print( sqrNrm2 )"
   ]
  }
 ],
 "metadata": {
  "kernelspec": {
   "display_name": "venv",
   "language": "python",
   "name": "python3"
  },
  "language_info": {
   "codemirror_mode": {
    "name": "ipython",
    "version": 3
   },
   "file_extension": ".py",
   "mimetype": "text/x-python",
   "name": "python",
   "nbconvert_exporter": "python",
   "pygments_lexer": "ipython3",
   "version": "3.11.2"
  }
 },
 "nbformat": 4,
 "nbformat_minor": 2
}
