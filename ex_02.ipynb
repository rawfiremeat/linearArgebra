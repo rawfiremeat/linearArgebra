{
 "cells": [
  {
   "cell_type": "code",
   "execution_count": 3,
   "metadata": {},
   "outputs": [],
   "source": [
    "import numpy as np\n",
    "import matplotlib.pyplot as plt\n"
   ]
  },
  {
   "cell_type": "code",
   "execution_count": 4,
   "metadata": {},
   "outputs": [
    {
     "data": {
      "text/plain": [
       "array([ -7,  -4, -13])"
      ]
     },
     "execution_count": 4,
     "metadata": {},
     "output_type": "execute_result"
    }
   ],
   "source": [
    "l1 = 1\n",
    "l2 = 2\n",
    "l3 = -3\n",
    "\n",
    "v1 = np.array([4,5,1])\n",
    "v2 = np.array([-4,0,-4])\n",
    "v3 = np.array([1,3,2])\n",
    "\n",
    "l1*v1 + l2*v2 + l3*v3"
   ]
  },
  {
   "cell_type": "code",
   "execution_count": 5,
   "metadata": {},
   "outputs": [
    {
     "data": {
      "text/plain": [
       "array([ -7.,  -4., -13.])"
      ]
     },
     "execution_count": 5,
     "metadata": {},
     "output_type": "execute_result"
    }
   ],
   "source": [
    "S = [l1, l2, l3]\n",
    "V = [v1, v2, v3]\n",
    "\n",
    "ret = np.zeros(len(v1))\n",
    "\n",
    "for s,v in zip(S,V):\n",
    "    ret += s*v\n",
    "ret"
   ]
  },
  {
   "cell_type": "code",
   "execution_count": 6,
   "metadata": {},
   "outputs": [
    {
     "ename": "IndexError",
     "evalue": "list index out of range",
     "output_type": "error",
     "traceback": [
      "\u001b[1;31m---------------------------------------------------------------------------\u001b[0m",
      "\u001b[1;31mIndexError\u001b[0m                                Traceback (most recent call last)",
      "Cell \u001b[1;32mIn[6], line 7\u001b[0m\n\u001b[0;32m      4\u001b[0m ret \u001b[38;5;241m=\u001b[39m np\u001b[38;5;241m.\u001b[39mzeros(\u001b[38;5;28mlen\u001b[39m(v1))\n\u001b[0;32m      6\u001b[0m \u001b[38;5;28;01mfor\u001b[39;00m i \u001b[38;5;129;01min\u001b[39;00m \u001b[38;5;28mrange\u001b[39m(\u001b[38;5;28mlen\u001b[39m(S)):\n\u001b[1;32m----> 7\u001b[0m     ret \u001b[38;5;241m+\u001b[39m\u001b[38;5;241m=\u001b[39m S[i] \u001b[38;5;241m*\u001b[39m \u001b[43mV\u001b[49m\u001b[43m[\u001b[49m\u001b[43mi\u001b[49m\u001b[43m]\u001b[49m\n\u001b[0;32m      8\u001b[0m ret\n",
      "\u001b[1;31mIndexError\u001b[0m: list index out of range"
     ]
    }
   ],
   "source": [
    "S = [l1, l2, l3, 5]\n",
    "V = [v1, v2, v3]\n",
    "\n",
    "ret = np.zeros(len(v1))\n",
    "\n",
    "for i in range(len(S)):\n",
    "    ret += S[i] * V[i]\n",
    "ret"
   ]
  },
  {
   "cell_type": "code",
   "execution_count": 8,
   "metadata": {},
   "outputs": [
    {
     "data": {
      "image/png": "[encoded data removed]",
      "text/plain": [
       "<Figure size 600x600 with 1 Axes>"
      ]
     },
     "metadata": {},
     "output_type": "display_data"
    }
   ],
   "source": [
    "A = np.array([1, 3])\n",
    "xlim = [-4, 4]\n",
    "p = (3,1)\n",
    "scalar = np.random.uniform(low=xlim[0], high=xlim[1], size=100)\n",
    "\n",
    "plt.figure(figsize=(6,6))\n",
    "\n",
    "for s in scalar:\n",
    "    p = A * s\n",
    "    plt.plot(p[0],p[1],'ko')\n",
    "\n",
    "plt.xlim(xlim)\n",
    "plt.ylim(xlim)\n",
    "plt.grid()\n",
    "\n",
    "plt.text(-4.5,4.5,'A)',fontweight='bold',fontsize=18)\n",
    "plt.savefig('Figure_02_07a.png',dpi=300)\n",
    "plt.show()"
   ]
  },
  {
   "cell_type": "code",
   "execution_count": 9,
   "metadata": {},
   "outputs": [
    {
     "data": {
      "application/vnd.plotly.v1+json": {
       "config": {
        "plotlyServerURL": "https://plot.ly"
       },
       "data": [
        {
         "marker": {
          "color": "black",
          "size": 6
         },
         "mode": "markers",
         "type": "scatter3d",
         "x": [
          1.9684113236677971,
          -11.265905428680417,
          9.209684903189515,
          5.680098744734688,
          -7.2412331605069316,
          -7.705514450294175,
          -3.530716387051771,
          -3.683452172796758,
          10.79856926166612,
          9.739806201784408,
          2.441241780561062,
          -3.4882253265842067,
          5.024787140191998,
          9.342122139104866,
          4.259193402072001,
          -9.445972764748497,
          4.167070764360785,
          2.295781043263,
          -9.914901129506,
          2.87109263865937,
          6.095343552330348,
          -1.6244280035734784,
          -11.533411351312743,
          -9.504410448871585,
          -1.746698914865238,
          7.452004919795419,
          2.152454927261238,
          9.200862755301543,
          1.617716665890919,
          8.440815402583187,
          -0.7863972062729729,
          -6.723372033085183,
          -0.4255144575336747,
          -9.895569557510953,
          6.316887893727714,
          -6.935181383919247,
          -4.499921667288611,
          0.40008403593842523,
          3.3888742250126027,
          7.850491686114012,
          10.174769095768795,
          1.6486575184557593,
          -11.504610838215712,
          -5.010732321437893,
          10.165267353896414,
          -7.755731598323802,
          -10.913642921594626,
          -6.070281244045677,
          11.833303525345478,
          -8.989932463749193,
          10.573834588757848,
          -8.602492851246577,
          -2.94010545837218,
          6.146060709731594,
          -2.862868037642367,
          5.506952660871383,
          -1.085274402595613,
          10.745680175404363,
          -9.285923970905,
          11.540281564600576,
          -10.929152186715772,
          -3.584026625469141,
          -0.0720018473531372,
          -5.968792672326168,
          6.6431626238770685,
          6.772371398551942,
          -8.99905384432547,
          -6.800297983923949,
          -8.99447653002216,
          3.599938167881426,
          7.129055104909017,
          -10.037455920605112,
          -2.796155302081769,
          4.313190622074403,
          9.797927068027274,
          7.355664837977187,
          11.20587304380901,
          -2.6444732062889846,
          -0.17271791389065783,
          1.8770797740188145,
          9.351392906343648,
          6.708788629164174,
          1.7050059715363721,
          8.786423617961713,
          -7.412655411678086,
          -8.70914835452978,
          5.863837700991484,
          8.54277217580779,
          -4.018477439289791,
          -9.966100506031243,
          -1.2054416739709426,
          2.1519202003294087,
          -11.495755626149982,
          -0.8633992079755961,
          -2.1401040639810924,
          8.78626427710064,
          -4.079246696460553,
          -8.509056606869766,
          -9.268189467013297,
          9.909514836676305
         ],
         "y": [
          2.9513643681782975,
          -12.222479855710061,
          8.751201028424031,
          12.48916918894849,
          -13.328608282421591,
          -16.019205457379606,
          -13.642714463563205,
          -2.8924208463033194,
          20.036168516034913,
          9.09882274247433,
          9.261369434951213,
          -7.770666328772682,
          5.179724392791535,
          13.000105351465884,
          -0.6873294534302721,
          -14.625757871083062,
          11.536344154060966,
          -2.432465572985942,
          -21.701140980055477,
          2.7404431212035227,
          8.795877247442258,
          5.094843606966065,
          -17.896485204029055,
          -17.452341370941156,
          -10.825036620092574,
          15.61296992565053,
          6.770609937411797,
          11.529735125771074,
          -2.076424683486044,
          7.1573009152049245,
          -6.6322914853474995,
          -8.487960343141962,
          -4.447815282835329,
          -13.22971139096652,
          10.535609419462608,
          -16.71019261293531,
          -10.78585557404353,
          -2.7359109279920304,
          7.978825237395388,
          14.635256224000363,
          10.924861241553858,
          3.2873599085026965,
          -18.667930056785025,
          -11.261278076388784,
          24.79292464189099,
          -10.966809131827846,
          -20.393774284903166,
          -6.910693017916822,
          25.464097479059802,
          -10.16464096862489,
          22.39198252700932,
          -19.704825568499512,
          -8.741485938436643,
          11.843731021198238,
          -1.8478945530297937,
          7.781818587572829,
          5.848765763286866,
          16.918945914089424,
          -19.827737016905157,
          15.046267271058507,
          -14.4168443785145,
          -3.31244151643798,
          1.8497772350019002,
          -7.168509039175941,
          4.848648625124554,
          18.47863768285068,
          -10.737525182939768,
          -13.471986591398707,
          -17.19291119077859,
          10.351416988368797,
          19.448987246380234,
          -14.495868818015232,
          -5.793769858017778,
          10.939136681151666,
          19.787313962862427,
          7.211026970882786,
          17.981619751214446,
          -9.444491412699769,
          -1.9644616523755403,
          4.753840074676996,
          18.650956417861792,
          11.73554103995649,
          9.683323796932928,
          20.67563571937437,
          -13.288357688826434,
          -15.8482590968544,
          3.097507107007438,
          7.888515828258347,
          -1.513401686322597,
          -17.490620247555853,
          2.3583024816823075,
          2.164536743441836,
          -14.260663439263007,
          2.4155210350308858,
          -2.8420829169361825,
          8.83646975379168,
          -3.7590307306984574,
          -18.100770318487758,
          -13.690483255860482,
          18.122484890327335
         ],
         "z": [
          0.32681593662123465,
          2.798727382530494,
          -3.5283788424953206,
          4.915704195968906,
          -3.6736307350790156,
          -5.745186190320703,
          -8.935092614160844,
          2.0188487174256915,
          5.638076167146754,
          -3.8875855265715495,
          6.00638039420313,
          -3.1196992266604067,
          -1.5199917941311298,
          0.54394249932606,
          -6.366253989526274,
          -2.031127518085066,
          5.9802498015799195,
          -5.493506964003275,
          -8.481272807380812,
          -1.0876803970089703,
          0.6687525110017933,
          7.260747611730703,
          -2.518603402278731,
          -4.779794105779044,
          -8.49610473360559,
          5.676963365923305,
          3.9006700343968133,
          -0.738081881297652,
          -4.233380238007269,
          -4.09711962157266,
          -5.5837618769835355,
          0.47653570097161424,
          -3.8804626727904292,
          -0.035618647618582244,
          2.1130922278256543,
          -7.463284101042982,
          -4.7859600176587165,
          -3.269356309243264,
          3.460326270711918,
          4.167933975848348,
          -2.6414975528045357,
          1.0891498838950175,
          -3.328448939164078,
          -4.580301647804926,
          11.239234836695772,
          -0.62583366739611,
          -5.8422503894436675,
          1.1830153074774126,
          9.686359445265836,
          1.8219356497073669,
          8.29353640866552,
          -8.234835100170741,
          -4.821345327273736,
          3.6489834082227786,
          1.9692628304933626,
          0.43921503974431886,
          7.2957983000810165,
          2.591372346883606,
          -7.446505055698491,
          -0.34077481507559426,
          0.15535853710653047,
          1.466260650854208,
          1.9457796981394164,
          0.7898811905922836,
          -4.008901540044872,
          9.448809151448092,
          1.2612132761608565,
          -4.404922612833442,
          -5.2002758174157115,
          5.551499431193562,
          9.943580439834879,
          -1.1125942572084186,
          -2.065562788575419,
          5.188215851719129,
          6.723411205492725,
          -2.59652614642013,
          3.040455692802432,
          -5.91852713764779,
          -1.7341711005213298,
          2.2510670426519104,
          6.182432542736929,
          2.7904895344042577,
          7.4099825015511,
          8.960404228758748,
          -3.4048171399223186,
          -4.236061290814695,
          -4.720943160981207,
          -3.501847072818707,
          3.844568232730458,
          -4.202486239514196,
          3.9655580469768976,
          -0.7046901903307088,
          1.0670107289369692,
          3.5667199789983473,
          0.011389168371940706,
          -2.8785492823425063,
          1.6799648645822796,
          -6.7553615093280674,
          -1.3328972998427524,
          4.909798441425596
         ]
        }
       ],
       "layout": {
        "margin": {
         "b": 0,
         "l": 0,
         "r": 0,
         "t": 0
        },
        "template": {
         "data": {
          "bar": [
           {
            "error_x": {
             "color": "#2a3f5f"
            },
            "error_y": {
             "color": "#2a3f5f"
            },
            "marker": {
             "line": {
              "color": "#E5ECF6",
              "width": 0.5
             },
             "pattern": {
              "fillmode": "overlay",
              "size": 10,
              "solidity": 0.2
             }
            },
            "type": "bar"
           }
          ],
          "barpolar": [
           {
            "marker": {
             "line": {
              "color": "#E5ECF6",
              "width": 0.5
             },
             "pattern": {
              "fillmode": "overlay",
              "size": 10,
              "solidity": 0.2
             }
            },
            "type": "barpolar"
           }
          ],
          "carpet": [
           {
            "aaxis": {
             "endlinecolor": "#2a3f5f",
             "gridcolor": "white",
             "linecolor": "white",
             "minorgridcolor": "white",
             "startlinecolor": "#2a3f5f"
            },
            "baxis": {
             "endlinecolor": "#2a3f5f",
             "gridcolor": "white",
             "linecolor": "white",
             "minorgridcolor": "white",
             "startlinecolor": "#2a3f5f"
            },
            "type": "carpet"
           }
          ],
          "choropleth": [
           {
            "colorbar": {
             "outlinewidth": 0,
             "ticks": ""
            },
            "type": "choropleth"
           }
          ],
          "contour": [
           {
            "colorbar": {
             "outlinewidth": 0,
             "ticks": ""
            },
            "colorscale": [
             [
              0,
              "#0d0887"
             ],
             [
              0.1111111111111111,
              "#46039f"
             ],
             [
              0.2222222222222222,
              "#7201a8"
             ],
             [
              0.3333333333333333,
              "#9c179e"
             ],
             [
              0.4444444444444444,
              "#bd3786"
             ],
             [
              0.5555555555555556,
              "#d8576b"
             ],
             [
              0.6666666666666666,
              "#ed7953"
             ],
             [
              0.7777777777777778,
              "#fb9f3a"
             ],
             [
              0.8888888888888888,
              "#fdca26"
             ],
             [
              1,
              "#f0f921"
             ]
            ],
            "type": "contour"
           }
          ],
          "contourcarpet": [
           {
            "colorbar": {
             "outlinewidth": 0,
             "ticks": ""
            },
            "type": "contourcarpet"
           }
          ],
          "heatmap": [
           {
            "colorbar": {
             "outlinewidth": 0,
             "ticks": ""
            },
            "colorscale": [
             [
              0,
              "#0d0887"
             ],
             [
              0.1111111111111111,
              "#46039f"
             ],
             [
              0.2222222222222222,
              "#7201a8"
             ],
             [
              0.3333333333333333,
              "#9c179e"
             ],
             [
              0.4444444444444444,
              "#bd3786"
             ],
             [
              0.5555555555555556,
              "#d8576b"
             ],
             [
              0.6666666666666666,
              "#ed7953"
             ],
             [
              0.7777777777777778,
              "#fb9f3a"
             ],
             [
              0.8888888888888888,
              "#fdca26"
             ],
             [
              1,
              "#f0f921"
             ]
            ],
            "type": "heatmap"
           }
          ],
          "heatmapgl": [
           {
            "colorbar": {
             "outlinewidth": 0,
             "ticks": ""
            },
            "colorscale": [
             [
              0,
              "#0d0887"
             ],
             [
              0.1111111111111111,
              "#46039f"
             ],
             [
              0.2222222222222222,
              "#7201a8"
             ],
             [
              0.3333333333333333,
              "#9c179e"
             ],
             [
              0.4444444444444444,
              "#bd3786"
             ],
             [
              0.5555555555555556,
              "#d8576b"
             ],
             [
              0.6666666666666666,
              "#ed7953"
             ],
             [
              0.7777777777777778,
              "#fb9f3a"
             ],
             [
              0.8888888888888888,
              "#fdca26"
             ],
             [
              1,
              "#f0f921"
             ]
            ],
            "type": "heatmapgl"
           }
          ],
          "histogram": [
           {
            "marker": {
             "pattern": {
              "fillmode": "overlay",
              "size": 10,
              "solidity": 0.2
             }
            },
            "type": "histogram"
           }
          ],
          "histogram2d": [
           {
            "colorbar": {
             "outlinewidth": 0,
             "ticks": ""
            },
            "colorscale": [
             [
              0,
              "#0d0887"
             ],
             [
              0.1111111111111111,
              "#46039f"
             ],
             [
              0.2222222222222222,
              "#7201a8"
             ],
             [
              0.3333333333333333,
              "#9c179e"
             ],
             [
              0.4444444444444444,
              "#bd3786"
             ],
             [
              0.5555555555555556,
              "#d8576b"
             ],
             [
              0.6666666666666666,
              "#ed7953"
             ],
             [
              0.7777777777777778,
              "#fb9f3a"
             ],
             [
              0.8888888888888888,
              "#fdca26"
             ],
             [
              1,
              "#f0f921"
             ]
            ],
            "type": "histogram2d"
           }
          ],
          "histogram2dcontour": [
           {
            "colorbar": {
             "outlinewidth": 0,
             "ticks": ""
            },
            "colorscale": [
             [
              0,
              "#0d0887"
             ],
             [
              0.1111111111111111,
              "#46039f"
             ],
             [
              0.2222222222222222,
              "#7201a8"
             ],
             [
              0.3333333333333333,
              "#9c179e"
             ],
             [
              0.4444444444444444,
              "#bd3786"
             ],
             [
              0.5555555555555556,
              "#d8576b"
             ],
             [
              0.6666666666666666,
              "#ed7953"
             ],
             [
              0.7777777777777778,
              "#fb9f3a"
             ],
             [
              0.8888888888888888,
              "#fdca26"
             ],
             [
              1,
              "#f0f921"
             ]
            ],
            "type": "histogram2dcontour"
           }
          ],
          "mesh3d": [
           {
            "colorbar": {
             "outlinewidth": 0,
             "ticks": ""
            },
            "type": "mesh3d"
           }
          ],
          "parcoords": [
           {
            "line": {
             "colorbar": {
              "outlinewidth": 0,
              "ticks": ""
             }
            },
            "type": "parcoords"
           }
          ],
          "pie": [
           {
            "automargin": true,
            "type": "pie"
           }
          ],
          "scatter": [
           {
            "fillpattern": {
             "fillmode": "overlay",
             "size": 10,
             "solidity": 0.2
            },
            "type": "scatter"
           }
          ],
          "scatter3d": [
           {
            "line": {
             "colorbar": {
              "outlinewidth": 0,
              "ticks": ""
             }
            },
            "marker": {
             "colorbar": {
              "outlinewidth": 0,
              "ticks": ""
             }
            },
            "type": "scatter3d"
           }
          ],
          "scattercarpet": [
           {
            "marker": {
             "colorbar": {
              "outlinewidth": 0,
              "ticks": ""
             }
            },
            "type": "scattercarpet"
           }
          ],
          "scattergeo": [
           {
            "marker": {
             "colorbar": {
              "outlinewidth": 0,
              "ticks": ""
             }
            },
            "type": "scattergeo"
           }
          ],
          "scattergl": [
           {
            "marker": {
             "colorbar": {
              "outlinewidth": 0,
              "ticks": ""
             }
            },
            "type": "scattergl"
           }
          ],
          "scattermapbox": [
           {
            "marker": {
             "colorbar": {
              "outlinewidth": 0,
              "ticks": ""
             }
            },
            "type": "scattermapbox"
           }
          ],
          "scatterpolar": [
           {
            "marker": {
             "colorbar": {
              "outlinewidth": 0,
              "ticks": ""
             }
            },
            "type": "scatterpolar"
           }
          ],
          "scatterpolargl": [
           {
            "marker": {
             "colorbar": {
              "outlinewidth": 0,
              "ticks": ""
             }
            },
            "type": "scatterpolargl"
           }
          ],
          "scatterternary": [
           {
            "marker": {
             "colorbar": {
              "outlinewidth": 0,
              "ticks": ""
             }
            },
            "type": "scatterternary"
           }
          ],
          "surface": [
           {
            "colorbar": {
             "outlinewidth": 0,
             "ticks": ""
            },
            "colorscale": [
             [
              0,
              "#0d0887"
             ],
             [
              0.1111111111111111,
              "#46039f"
             ],
             [
              0.2222222222222222,
              "#7201a8"
             ],
             [
              0.3333333333333333,
              "#9c179e"
             ],
             [
              0.4444444444444444,
              "#bd3786"
             ],
             [
              0.5555555555555556,
              "#d8576b"
             ],
             [
              0.6666666666666666,
              "#ed7953"
             ],
             [
              0.7777777777777778,
              "#fb9f3a"
             ],
             [
              0.8888888888888888,
              "#fdca26"
             ],
             [
              1,
              "#f0f921"
             ]
            ],
            "type": "surface"
           }
          ],
          "table": [
           {
            "cells": {
             "fill": {
              "color": "#EBF0F8"
             },
             "line": {
              "color": "white"
             }
            },
            "header": {
             "fill": {
              "color": "#C8D4E3"
             },
             "line": {
              "color": "white"
             }
            },
            "type": "table"
           }
          ]
         },
         "layout": {
          "annotationdefaults": {
           "arrowcolor": "#2a3f5f",
           "arrowhead": 0,
           "arrowwidth": 1
          },
          "autotypenumbers": "strict",
          "coloraxis": {
           "colorbar": {
            "outlinewidth": 0,
            "ticks": ""
           }
          },
          "colorscale": {
           "diverging": [
            [
             0,
             "#8e0152"
            ],
            [
             0.1,
             "#c51b7d"
            ],
            [
             0.2,
             "#de77ae"
            ],
            [
             0.3,
             "#f1b6da"
            ],
            [
             0.4,
             "#fde0ef"
            ],
            [
             0.5,
             "#f7f7f7"
            ],
            [
             0.6,
             "#e6f5d0"
            ],
            [
             0.7,
             "#b8e186"
            ],
            [
             0.8,
             "#7fbc41"
            ],
            [
             0.9,
             "#4d9221"
            ],
            [
             1,
             "#276419"
            ]
           ],
           "sequential": [
            [
             0,
             "#0d0887"
            ],
            [
             0.1111111111111111,
             "#46039f"
            ],
            [
             0.2222222222222222,
             "#7201a8"
            ],
            [
             0.3333333333333333,
             "#9c179e"
            ],
            [
             0.4444444444444444,
             "#bd3786"
            ],
            [
             0.5555555555555556,
             "#d8576b"
            ],
            [
             0.6666666666666666,
             "#ed7953"
            ],
            [
             0.7777777777777778,
             "#fb9f3a"
            ],
            [
             0.8888888888888888,
             "#fdca26"
            ],
            [
             1,
             "#f0f921"
            ]
           ],
           "sequentialminus": [
            [
             0,
             "#0d0887"
            ],
            [
             0.1111111111111111,
             "#46039f"
            ],
            [
             0.2222222222222222,
             "#7201a8"
            ],
            [
             0.3333333333333333,
             "#9c179e"
            ],
            [
             0.4444444444444444,
             "#bd3786"
            ],
            [
             0.5555555555555556,
             "#d8576b"
            ],
            [
             0.6666666666666666,
             "#ed7953"
            ],
            [
             0.7777777777777778,
             "#fb9f3a"
            ],
            [
             0.8888888888888888,
             "#fdca26"
            ],
            [
             1,
             "#f0f921"
            ]
           ]
          },
          "colorway": [
           "#636efa",
           "#EF553B",
           "#00cc96",
           "#ab63fa",
           "#FFA15A",
           "#19d3f3",
           "#FF6692",
           "#B6E880",
           "#FF97FF",
           "#FECB52"
          ],
          "font": {
           "color": "#2a3f5f"
          },
          "geo": {
           "bgcolor": "white",
           "lakecolor": "white",
           "landcolor": "#E5ECF6",
           "showlakes": true,
           "showland": true,
           "subunitcolor": "white"
          },
          "hoverlabel": {
           "align": "left"
          },
          "hovermode": "closest",
          "mapbox": {
           "style": "light"
          },
          "paper_bgcolor": "white",
          "plot_bgcolor": "#E5ECF6",
          "polar": {
           "angularaxis": {
            "gridcolor": "white",
            "linecolor": "white",
            "ticks": ""
           },
           "bgcolor": "#E5ECF6",
           "radialaxis": {
            "gridcolor": "white",
            "linecolor": "white",
            "ticks": ""
           }
          },
          "scene": {
           "xaxis": {
            "backgroundcolor": "#E5ECF6",
            "gridcolor": "white",
            "gridwidth": 2,
            "linecolor": "white",
            "showbackground": true,
            "ticks": "",
            "zerolinecolor": "white"
           },
           "yaxis": {
            "backgroundcolor": "#E5ECF6",
            "gridcolor": "white",
            "gridwidth": 2,
            "linecolor": "white",
            "showbackground": true,
            "ticks": "",
            "zerolinecolor": "white"
           },
           "zaxis": {
            "backgroundcolor": "#E5ECF6",
            "gridcolor": "white",
            "gridwidth": 2,
            "linecolor": "white",
            "showbackground": true,
            "ticks": "",
            "zerolinecolor": "white"
           }
          },
          "shapedefaults": {
           "line": {
            "color": "#2a3f5f"
           }
          },
          "ternary": {
           "aaxis": {
            "gridcolor": "white",
            "linecolor": "white",
            "ticks": ""
           },
           "baxis": {
            "gridcolor": "white",
            "linecolor": "white",
            "ticks": ""
           },
           "bgcolor": "#E5ECF6",
           "caxis": {
            "gridcolor": "white",
            "linecolor": "white",
            "ticks": ""
           }
          },
          "title": {
           "x": 0.05
          },
          "xaxis": {
           "automargin": true,
           "gridcolor": "white",
           "linecolor": "white",
           "ticks": "",
           "title": {
            "standoff": 15
           },
           "zerolinecolor": "white",
           "zerolinewidth": 2
          },
          "yaxis": {
           "automargin": true,
           "gridcolor": "white",
           "linecolor": "white",
           "ticks": "",
           "title": {
            "standoff": 15
           },
           "zerolinecolor": "white",
           "zerolinewidth": 2
          }
         }
        }
       }
      }
     },
     "metadata": {},
     "output_type": "display_data"
    },
    {
     "data": {
      "text/plain": [
       "<Figure size 640x480 with 0 Axes>"
      ]
     },
     "metadata": {},
     "output_type": "display_data"
    }
   ],
   "source": [
    "import plotly.graph_objects as go\n",
    "\n",
    "v1= np.array([3,5,1])\n",
    "v2 = np.array([0, 2, 2])\n",
    "\n",
    "scalar = np.random.uniform(low=xlim[0], high=xlim[1], size=(100,2))\n",
    "points = np.zeros((100, 3))\n",
    "\n",
    "for i in range(len(scalar)):\n",
    "    points[i, :] = v1 * scalar[i, 0] + v2 * scalar[i, 1]\n",
    "\n",
    "fig = go.Figure( data=[go.Scatter3d(x=points[:,0], y=points[:,1], z=points[:,2], \n",
    "                                    mode='markers', marker=dict(size=6,color='black') )])\n",
    "fig.update_layout(margin=dict(l=0,r=0,b=0,t=0))\n",
    "plt.savefig('Figure_02_07b.png',dpi=300)\n",
    "fig.show()\n"
   ]
  },
  {
   "cell_type": "code",
   "execution_count": null,
   "metadata": {},
   "outputs": [],
   "source": []
  }
 ],
 "metadata": {
  "kernelspec": {
   "display_name": "venv",
   "language": "python",
   "name": "python3"
  },
  "language_info": {
   "codemirror_mode": {
    "name": "ipython",
    "version": 3
   },
   "file_extension": ".py",
   "mimetype": "text/x-python",
   "name": "python",
   "nbconvert_exporter": "python",
   "pygments_lexer": "ipython3",
   "version": "3.11.2"
  }
 },
 "nbformat": 4,
 "nbformat_minor": 2
}
