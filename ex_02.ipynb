{
 "cells": [
  {
   "cell_type": "code",
   "execution_count": null,
   "metadata": {},
   "outputs": [],
   "source": [
    "import numpy as np\n",
    "import matplotlib.pyplot as plt\n"
   ]
  },
  {
   "cell_type": "code",
   "execution_count": null,
   "metadata": {},
   "outputs": [],
   "source": [
    "l1 = 1\n",
    "l2 = 2\n",
    "l3 = -3\n",
    "\n",
    "v1 = np.array([4,5,1])\n",
    "v2 = np.array([-4,0,-4])\n",
    "v3 = np.array([1,3,2])\n",
    "\n",
    "l1*v1 + l2*v2 + l3*v3"
   ]
  },
  {
   "cell_type": "code",
   "execution_count": null,
   "metadata": {},
   "outputs": [],
   "source": [
    "S = [l1, l2, l3]\n",
    "V = [v1, v2, v3]\n",
    "\n",
    "ret = np.zeros(len(v1))\n",
    "\n",
    "for s,v in zip(S,V):\n",
    "    ret += s*v\n",
    "ret"
   ]
  },
  {
   "cell_type": "code",
   "execution_count": null,
   "metadata": {},
   "outputs": [],
   "source": [
    "S = [l1, l2, l3, 5]\n",
    "V = [v1, v2, v3]\n",
    "\n",
    "ret = np.zeros(len(v1))\n",
    "\n",
    "# for i in range(len(S)):\n",
    "#     ret += S[i] * V[i]\n",
    "# ret"
   ]
  },
  {
   "cell_type": "code",
   "execution_count": null,
   "metadata": {},
   "outputs": [],
   "source": [
    "A = np.array([1, 3])\n",
    "xlim = [-4, 4]\n",
    "p = (3,1)\n",
    "scalar = np.random.uniform(low=xlim[0], high=xlim[1], size=100)\n",
    "\n",
    "plt.figure(figsize=(6,6))\n",
    "\n",
    "for s in scalar:\n",
    "    p = A * s\n",
    "    plt.plot(p[0],p[1],'ko')\n",
    "\n",
    "plt.xlim(xlim)\n",
    "plt.ylim(xlim)\n",
    "plt.grid()\n",
    "\n",
    "plt.text(-4.5,4.5,'A)',fontweight='bold',fontsize=18)\n",
    "# plt.savefig('Figure_02_07a.png',dpi=300)\n",
    "plt.show()"
   ]
  },
  {
   "cell_type": "code",
   "execution_count": null,
   "metadata": {},
   "outputs": [],
   "source": [
    "import plotly.graph_objects as go\n",
    "\n",
    "v1= np.array([3,5,1])\n",
    "v2 = np.array([0, 2, 2])\n",
    "\n",
    "scalar = np.random.uniform(low=xlim[0], high=xlim[1], size=(100,2))\n",
    "points = np.zeros((100, 3))\n",
    "\n",
    "for i in range(len(scalar)):\n",
    "    points[i, :] = v1 * scalar[i, 0] + v2 * scalar[i, 1]\n",
    "\n",
    "fig = go.Figure( data=[go.Scatter3d(x=points[:,0], y=points[:,1], z=points[:,2], \n",
    "                                    mode='markers', marker=dict(size=6,color='black') )])\n",
    "fig.update_layout(margin=dict(l=0,r=0,b=0,t=0))\n",
    "# plt.savefig('Figure_02_07b.png',dpi=300)\n",
    "fig.show()\n"
   ]
  },
  {
   "cell_type": "code",
   "execution_count": null,
   "metadata": {},
   "outputs": [],
   "source": []
  }
 ],
 "metadata": {
  "kernelspec": {
   "display_name": "venv",
   "language": "python",
   "name": "python3"
  },
  "language_info": {
   "codemirror_mode": {
    "name": "ipython",
    "version": 3
   },
   "file_extension": ".py",
   "mimetype": "text/x-python",
   "name": "python",
   "nbconvert_exporter": "python",
   "pygments_lexer": "ipython3",
   "version": "3.11.2"
  }
 },
 "nbformat": 4,
 "nbformat_minor": 2
}
