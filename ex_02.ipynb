{
 "cells": [
  {
   "cell_type": "code",
   "execution_count": 1,
   "metadata": {},
   "outputs": [],
   "source": [
    "import numpy as np\n",
    "import matplotlib.pyplot as plt\n"
   ]
  },
  {
   "cell_type": "code",
   "execution_count": 2,
   "metadata": {},
   "outputs": [
    {
     "data": {
      "text/plain": [
       "array([ -7,  -4, -13])"
      ]
     },
     "execution_count": 2,
     "metadata": {},
     "output_type": "execute_result"
    }
   ],
   "source": [
    "l1 = 1\n",
    "l2 = 2\n",
    "l3 = -3\n",
    "\n",
    "v1 = np.array([4,5,1])\n",
    "v2 = np.array([-4,0,-4])\n",
    "v3 = np.array([1,3,2])\n",
    "\n",
    "l1*v1 + l2*v2 + l3*v3"
   ]
  },
  {
   "cell_type": "code",
   "execution_count": 3,
   "metadata": {},
   "outputs": [
    {
     "data": {
      "text/plain": [
       "array([ -7.,  -4., -13.])"
      ]
     },
     "execution_count": 3,
     "metadata": {},
     "output_type": "execute_result"
    }
   ],
   "source": [
    "S = [l1, l2, l3]\n",
    "V = [v1, v2, v3]\n",
    "\n",
    "ret = np.zeros(len(v1))\n",
    "\n",
    "for s,v in zip(S,V):\n",
    "    ret += s*v\n",
    "ret"
   ]
  },
  {
   "cell_type": "code",
   "execution_count": 4,
   "metadata": {},
   "outputs": [],
   "source": [
    "S = [l1, l2, l3, 5]\n",
    "V = [v1, v2, v3]\n",
    "\n",
    "ret = np.zeros(len(v1))\n",
    "\n",
    "# for i in range(len(S)):\n",
    "#     ret += S[i] * V[i]\n",
    "# ret"
   ]
  },
  {
   "cell_type": "code",
   "execution_count": 5,
   "metadata": {},
   "outputs": [
    {
     "data": {
      "image/png": "[encoded data removed]",
      "text/plain": [
       "<Figure size 600x600 with 1 Axes>"
      ]
     },
     "metadata": {},
     "output_type": "display_data"
    }
   ],
   "source": [
    "A = np.array([1, 3])\n",
    "xlim = [-4, 4]\n",
    "p = (3,1)\n",
    "scalar = np.random.uniform(low=xlim[0], high=xlim[1], size=100)\n",
    "\n",
    "plt.figure(figsize=(6,6))\n",
    "\n",
    "for s in scalar:\n",
    "    p = A * s\n",
    "    plt.plot(p[0],p[1],'ko')\n",
    "\n",
    "plt.xlim(xlim)\n",
    "plt.ylim(xlim)\n",
    "plt.grid()\n",
    "\n",
    "plt.text(-4.5,4.5,'A)',fontweight='bold',fontsize=18)\n",
    "# plt.savefig('Figure_02_07a.png',dpi=300)\n",
    "plt.show()"
   ]
  },
  {
   "cell_type": "code",
   "execution_count": 6,
   "metadata": {},
   "outputs": [
    {
     "data": {
      "application/vnd.plotly.v1+json": {
       "config": {
        "plotlyServerURL": "https://plot.ly"
       },
       "data": [
        {
         "marker": {
          "color": "black",
          "size": 6
         },
         "mode": "markers",
         "type": "scatter3d",
         "x": [
          -8.885185786631347,
          -2.932165912029448,
          2.288204526398016,
          11.240490244673477,
          3.029397818064358,
          10.433628201406465,
          -11.135229389913196,
          -0.604869266039259,
          11.518382885900078,
          4.5876645733295724,
          10.148850455975957,
          -7.125130694754978,
          -7.9817741074558715,
          6.834506376143679,
          9.880189340072139,
          2.270612525688083,
          1.5751332254317143,
          -6.963440073311007,
          -6.6291941751001895,
          -4.557309695912243,
          -9.95597575122252,
          4.452819775468492,
          -1.2394487143672688,
          9.917209504376476,
          10.35521837934309,
          3.5443463582631702,
          3.0706742070651183,
          1.0302639746205875,
          5.063733740631622,
          -8.36491260471372,
          -0.10550635751843274,
          10.921079077381709,
          -3.019593713508801,
          -0.8559661393017697,
          -9.118762240724331,
          10.877105211674106,
          -4.993368012158707,
          4.995806964396979,
          3.8216834773972854,
          -4.8911447646535215,
          2.32774147090851,
          3.7150159746311964,
          -9.944052219832134,
          -7.108321216942048,
          -2.4472258134832865,
          3.310657122224131,
          9.908753773573796,
          -5.072510397115687,
          11.7344573236479,
          -3.914539358848568,
          -9.055036820174502,
          4.697373528723723,
          -11.008584817335137,
          2.2246532345403693,
          0.022915506071512937,
          -6.403110319301864,
          -8.881979611578924,
          -7.693070404176125,
          2.150513832598593,
          -8.231236772418645,
          -9.748370023887297,
          -7.038056818721006,
          -6.1990916785655426,
          -4.012789016525617,
          -4.156968113719282,
          -4.864311677405335,
          2.2235266259213526,
          1.8566169489081377,
          0.34965398909219303,
          2.6001434175795097,
          6.992131264702332,
          3.1565807802192998,
          -3.418258947944425,
          -4.711875369168364,
          -5.355827085252732,
          3.0715486232768363,
          0.27757265973176004,
          -11.415650603275376,
          -2.3312934111217727,
          -9.449514284143568,
          -3.761271640559305,
          -6.979002018806637,
          2.7704441346940287,
          -7.397680663736097,
          -9.74468887780493,
          1.669071219723107,
          10.6710410628434,
          -4.670196181295153,
          -4.938123930407968,
          5.0329484155819415,
          -4.517830614179452,
          -8.281415029409903,
          -0.12929623974135396,
          0.6892726937171858,
          -5.068061362653869,
          -2.8564378318109505,
          -0.4972771037663275,
          5.045707457271264,
          -11.58404554579641,
          2.996305479570373
         ],
         "y": [
          -11.59717982471248,
          -0.27940838546659297,
          -0.4636672975500469,
          23.338884325119153,
          9.537344107348133,
          18.047743046564214,
          -24.192471331504784,
          5.24271688774752,
          16.164041684046225,
          2.7725878965276927,
          21.70410568833516,
          -9.518619335043415,
          -8.669522888543318,
          12.221969221470477,
          17.203934992890495,
          1.931355665741636,
          5.1190433963121835,
          -5.047805407328029,
          -3.7903040249772673,
          -9.362821796335025,
          -10.050114070902175,
          1.1644204291154692,
          2.558135266078029,
          17.740882110912118,
          15.440355593293926,
          9.972777551999187,
          -2.053910146004873,
          6.153320356133288,
          12.549974999155072,
          -21.371496926985397,
          -1.520166213842952,
          25.441847192266472,
          -9.48930598647463,
          2.4196096418332163,
          -7.6252045919574645,
          11.29234537106933,
          -10.35621668776675,
          7.0927763194993965,
          3.815742560190805,
          -7.797706842740782,
          8.481657965694149,
          2.3964858869821857,
          -11.853746999992895,
          -4.068968098518534,
          -11.360765532258089,
          12.310882095583995,
          19.381379462087153,
          -10.354717107429304,
          27.511408969125014,
          1.2891728476658972,
          -9.292535196951507,
          11.351215595466794,
          -19.530417681028403,
          8.264900319695734,
          5.8745946498000485,
          -17.08953463086381,
          -9.44914830932315,
          -13.465263408667344,
          0.6976067456645225,
          -15.250811611767919,
          -18.05686421655973,
          -8.02379928775949,
          -10.570110742681504,
          -2.3588313704661745,
          -8.25367658778615,
          -14.431187226165262,
          9.073475769448645,
          9.403019024524781,
          -6.725195317680498,
          6.79057477580956,
          15.971061824629345,
          8.56128275514224,
          -6.207315097484631,
          -13.496164977005593,
          -6.1091542750800105,
          -1.4312362743734859,
          3.7348212911687764,
          -14.893049106064389,
          1.8139922093548764,
          -22.80979679351489,
          -9.692057715401646,
          -9.653601670812057,
          7.918380907610904,
          -20.102851660341067,
          -9.379177112232634,
          -0.792128891715639,
          9.848402481393363,
          -0.6940256827038871,
          -15.997294411502756,
          10.508861540843753,
          -1.3071324448149646,
          -15.881385466767819,
          -1.0029225920923093,
          -4.310299300956419,
          -2.3878346317507777,
          -7.091724302120378,
          -1.2383854054095362,
          6.059427989163941,
          -26.339319371121327,
          6.980386957950956
         ],
         "z": [
          0.2497345574626486,
          3.630146163906004,
          -3.514606666080735,
          8.351563998887851,
          5.498147016595657,
          4.1362387780222605,
          -9.345498811620523,
          6.049209242466532,
          0.8061978361794546,
          -3.3442982012450706,
          8.17230508036722,
          -0.018445075370110864,
          1.9728425880645108,
          3.109294053278905,
          4.030349206127643,
          -1.0961277018424749,
          3.018865762403231,
          4.236781357086647,
          5.048621541822986,
          -3.2864088684520336,
          3.2245202640611854,
          -4.77267260484252,
          4.210733551901054,
          4.517936105076818,
          1.6333977541698053,
          5.246982407648294,
          -6.148142422091698,
          4.779635056639171,
          5.798330011646244,
          -10.218280120700438,
          -1.3794910704850416,
          10.880408422424193,
          -5.463181035129562,
          3.560897827568909,
          4.533145062341644,
          -3.210461577829479,
          -3.6983926715551414,
          0.43170036697009184,
          -1.2798354096722422,
          -1.2761804898694198,
          5.378002671149469,
          -2.5568687458594095,
          1.404989293116615,
          5.408793524070864,
          -8.09779778094704,
          7.896672599285153,
          6.169707763988755,
          -3.591369911275054,
          11.865465870927816,
          6.508558659463988,
          2.7808472299478293,
          5.08805089050183,
          -4.852304591248222,
          5.298696006975241,
          5.844040641704698,
          -8.552054205127991,
          2.3934911727820802,
          -3.207836203099178,
          -2.1697450311336013,
          -4.275829248543058,
          -5.059037518043337,
          1.360276470535184,
          -2.30465517126078,
          2.991553984901315,
          -2.7110524361604416,
          -7.945438322958149,
          6.108773601553508,
          6.927529759313932,
          -7.191400636470089,
          3.323716885703547,
          6.648220138359569,
          4.352508381516507,
          -1.649636500225398,
          -7.213664484781107,
          1.031948505256966,
          -5.526634438742601,
          3.3647244115264296,
          0.3278183649694473,
          4.922383424183907,
          -10.210444414656802,
          -4.677028861322573,
          -0.3482656457365403,
          4.224455394685532,
          -10.239277442026273,
          3.6137413915072694,
          -3.0175571846797817,
          -4.379652269064507,
          5.5329025590229834,
          -9.4131291709588,
          3.7982636534011647,
          4.716641707424305,
          -4.839498760887946,
          -0.830527605770504,
          -5.2293295592460005,
          4.369580518454382,
          -3.283140526372444,
          -0.5753492670544329,
          -0.6681819538644111,
          -10.893925310059448,
          2.9853129851904585
         ]
        }
       ],
       "layout": {
        "margin": {
         "b": 0,
         "l": 0,
         "r": 0,
         "t": 0
        },
        "template": {
         "data": {
          "bar": [
           {
            "error_x": {
             "color": "#2a3f5f"
            },
            "error_y": {
             "color": "#2a3f5f"
            },
            "marker": {
             "line": {
              "color": "#E5ECF6",
              "width": 0.5
             },
             "pattern": {
              "fillmode": "overlay",
              "size": 10,
              "solidity": 0.2
             }
            },
            "type": "bar"
           }
          ],
          "barpolar": [
           {
            "marker": {
             "line": {
              "color": "#E5ECF6",
              "width": 0.5
             },
             "pattern": {
              "fillmode": "overlay",
              "size": 10,
              "solidity": 0.2
             }
            },
            "type": "barpolar"
           }
          ],
          "carpet": [
           {
            "aaxis": {
             "endlinecolor": "#2a3f5f",
             "gridcolor": "white",
             "linecolor": "white",
             "minorgridcolor": "white",
             "startlinecolor": "#2a3f5f"
            },
            "baxis": {
             "endlinecolor": "#2a3f5f",
             "gridcolor": "white",
             "linecolor": "white",
             "minorgridcolor": "white",
             "startlinecolor": "#2a3f5f"
            },
            "type": "carpet"
           }
          ],
          "choropleth": [
           {
            "colorbar": {
             "outlinewidth": 0,
             "ticks": ""
            },
            "type": "choropleth"
           }
          ],
          "contour": [
           {
            "colorbar": {
             "outlinewidth": 0,
             "ticks": ""
            },
            "colorscale": [
             [
              0,
              "#0d0887"
             ],
             [
              0.1111111111111111,
              "#46039f"
             ],
             [
              0.2222222222222222,
              "#7201a8"
             ],
             [
              0.3333333333333333,
              "#9c179e"
             ],
             [
              0.4444444444444444,
              "#bd3786"
             ],
             [
              0.5555555555555556,
              "#d8576b"
             ],
             [
              0.6666666666666666,
              "#ed7953"
             ],
             [
              0.7777777777777778,
              "#fb9f3a"
             ],
             [
              0.8888888888888888,
              "#fdca26"
             ],
             [
              1,
              "#f0f921"
             ]
            ],
            "type": "contour"
           }
          ],
          "contourcarpet": [
           {
            "colorbar": {
             "outlinewidth": 0,
             "ticks": ""
            },
            "type": "contourcarpet"
           }
          ],
          "heatmap": [
           {
            "colorbar": {
             "outlinewidth": 0,
             "ticks": ""
            },
            "colorscale": [
             [
              0,
              "#0d0887"
             ],
             [
              0.1111111111111111,
              "#46039f"
             ],
             [
              0.2222222222222222,
              "#7201a8"
             ],
             [
              0.3333333333333333,
              "#9c179e"
             ],
             [
              0.4444444444444444,
              "#bd3786"
             ],
             [
              0.5555555555555556,
              "#d8576b"
             ],
             [
              0.6666666666666666,
              "#ed7953"
             ],
             [
              0.7777777777777778,
              "#fb9f3a"
             ],
             [
              0.8888888888888888,
              "#fdca26"
             ],
             [
              1,
              "#f0f921"
             ]
            ],
            "type": "heatmap"
           }
          ],
          "heatmapgl": [
           {
            "colorbar": {
             "outlinewidth": 0,
             "ticks": ""
            },
            "colorscale": [
             [
              0,
              "#0d0887"
             ],
             [
              0.1111111111111111,
              "#46039f"
             ],
             [
              0.2222222222222222,
              "#7201a8"
             ],
             [
              0.3333333333333333,
              "#9c179e"
             ],
             [
              0.4444444444444444,
              "#bd3786"
             ],
             [
              0.5555555555555556,
              "#d8576b"
             ],
             [
              0.6666666666666666,
              "#ed7953"
             ],
             [
              0.7777777777777778,
              "#fb9f3a"
             ],
             [
              0.8888888888888888,
              "#fdca26"
             ],
             [
              1,
              "#f0f921"
             ]
            ],
            "type": "heatmapgl"
           }
          ],
          "histogram": [
           {
            "marker": {
             "pattern": {
              "fillmode": "overlay",
              "size": 10,
              "solidity": 0.2
             }
            },
            "type": "histogram"
           }
          ],
          "histogram2d": [
           {
            "colorbar": {
             "outlinewidth": 0,
             "ticks": ""
            },
            "colorscale": [
             [
              0,
              "#0d0887"
             ],
             [
              0.1111111111111111,
              "#46039f"
             ],
             [
              0.2222222222222222,
              "#7201a8"
             ],
             [
              0.3333333333333333,
              "#9c179e"
             ],
             [
              0.4444444444444444,
              "#bd3786"
             ],
             [
              0.5555555555555556,
              "#d8576b"
             ],
             [
              0.6666666666666666,
              "#ed7953"
             ],
             [
              0.7777777777777778,
              "#fb9f3a"
             ],
             [
              0.8888888888888888,
              "#fdca26"
             ],
             [
              1,
              "#f0f921"
             ]
            ],
            "type": "histogram2d"
           }
          ],
          "histogram2dcontour": [
           {
            "colorbar": {
             "outlinewidth": 0,
             "ticks": ""
            },
            "colorscale": [
             [
              0,
              "#0d0887"
             ],
             [
              0.1111111111111111,
              "#46039f"
             ],
             [
              0.2222222222222222,
              "#7201a8"
             ],
             [
              0.3333333333333333,
              "#9c179e"
             ],
             [
              0.4444444444444444,
              "#bd3786"
             ],
             [
              0.5555555555555556,
              "#d8576b"
             ],
             [
              0.6666666666666666,
              "#ed7953"
             ],
             [
              0.7777777777777778,
              "#fb9f3a"
             ],
             [
              0.8888888888888888,
              "#fdca26"
             ],
             [
              1,
              "#f0f921"
             ]
            ],
            "type": "histogram2dcontour"
           }
          ],
          "mesh3d": [
           {
            "colorbar": {
             "outlinewidth": 0,
             "ticks": ""
            },
            "type": "mesh3d"
           }
          ],
          "parcoords": [
           {
            "line": {
             "colorbar": {
              "outlinewidth": 0,
              "ticks": ""
             }
            },
            "type": "parcoords"
           }
          ],
          "pie": [
           {
            "automargin": true,
            "type": "pie"
           }
          ],
          "scatter": [
           {
            "fillpattern": {
             "fillmode": "overlay",
             "size": 10,
             "solidity": 0.2
            },
            "type": "scatter"
           }
          ],
          "scatter3d": [
           {
            "line": {
             "colorbar": {
              "outlinewidth": 0,
              "ticks": ""
             }
            },
            "marker": {
             "colorbar": {
              "outlinewidth": 0,
              "ticks": ""
             }
            },
            "type": "scatter3d"
           }
          ],
          "scattercarpet": [
           {
            "marker": {
             "colorbar": {
              "outlinewidth": 0,
              "ticks": ""
             }
            },
            "type": "scattercarpet"
           }
          ],
          "scattergeo": [
           {
            "marker": {
             "colorbar": {
              "outlinewidth": 0,
              "ticks": ""
             }
            },
            "type": "scattergeo"
           }
          ],
          "scattergl": [
           {
            "marker": {
             "colorbar": {
              "outlinewidth": 0,
              "ticks": ""
             }
            },
            "type": "scattergl"
           }
          ],
          "scattermapbox": [
           {
            "marker": {
             "colorbar": {
              "outlinewidth": 0,
              "ticks": ""
             }
            },
            "type": "scattermapbox"
           }
          ],
          "scatterpolar": [
           {
            "marker": {
             "colorbar": {
              "outlinewidth": 0,
              "ticks": ""
             }
            },
            "type": "scatterpolar"
           }
          ],
          "scatterpolargl": [
           {
            "marker": {
             "colorbar": {
              "outlinewidth": 0,
              "ticks": ""
             }
            },
            "type": "scatterpolargl"
           }
          ],
          "scatterternary": [
           {
            "marker": {
             "colorbar": {
              "outlinewidth": 0,
              "ticks": ""
             }
            },
            "type": "scatterternary"
           }
          ],
          "surface": [
           {
            "colorbar": {
             "outlinewidth": 0,
             "ticks": ""
            },
            "colorscale": [
             [
              0,
              "#0d0887"
             ],
             [
              0.1111111111111111,
              "#46039f"
             ],
             [
              0.2222222222222222,
              "#7201a8"
             ],
             [
              0.3333333333333333,
              "#9c179e"
             ],
             [
              0.4444444444444444,
              "#bd3786"
             ],
             [
              0.5555555555555556,
              "#d8576b"
             ],
             [
              0.6666666666666666,
              "#ed7953"
             ],
             [
              0.7777777777777778,
              "#fb9f3a"
             ],
             [
              0.8888888888888888,
              "#fdca26"
             ],
             [
              1,
              "#f0f921"
             ]
            ],
            "type": "surface"
           }
          ],
          "table": [
           {
            "cells": {
             "fill": {
              "color": "#EBF0F8"
             },
             "line": {
              "color": "white"
             }
            },
            "header": {
             "fill": {
              "color": "#C8D4E3"
             },
             "line": {
              "color": "white"
             }
            },
            "type": "table"
           }
          ]
         },
         "layout": {
          "annotationdefaults": {
           "arrowcolor": "#2a3f5f",
           "arrowhead": 0,
           "arrowwidth": 1
          },
          "autotypenumbers": "strict",
          "coloraxis": {
           "colorbar": {
            "outlinewidth": 0,
            "ticks": ""
           }
          },
          "colorscale": {
           "diverging": [
            [
             0,
             "#8e0152"
            ],
            [
             0.1,
             "#c51b7d"
            ],
            [
             0.2,
             "#de77ae"
            ],
            [
             0.3,
             "#f1b6da"
            ],
            [
             0.4,
             "#fde0ef"
            ],
            [
             0.5,
             "#f7f7f7"
            ],
            [
             0.6,
             "#e6f5d0"
            ],
            [
             0.7,
             "#b8e186"
            ],
            [
             0.8,
             "#7fbc41"
            ],
            [
             0.9,
             "#4d9221"
            ],
            [
             1,
             "#276419"
            ]
           ],
           "sequential": [
            [
             0,
             "#0d0887"
            ],
            [
             0.1111111111111111,
             "#46039f"
            ],
            [
             0.2222222222222222,
             "#7201a8"
            ],
            [
             0.3333333333333333,
             "#9c179e"
            ],
            [
             0.4444444444444444,
             "#bd3786"
            ],
            [
             0.5555555555555556,
             "#d8576b"
            ],
            [
             0.6666666666666666,
             "#ed7953"
            ],
            [
             0.7777777777777778,
             "#fb9f3a"
            ],
            [
             0.8888888888888888,
             "#fdca26"
            ],
            [
             1,
             "#f0f921"
            ]
           ],
           "sequentialminus": [
            [
             0,
             "#0d0887"
            ],
            [
             0.1111111111111111,
             "#46039f"
            ],
            [
             0.2222222222222222,
             "#7201a8"
            ],
            [
             0.3333333333333333,
             "#9c179e"
            ],
            [
             0.4444444444444444,
             "#bd3786"
            ],
            [
             0.5555555555555556,
             "#d8576b"
            ],
            [
             0.6666666666666666,
             "#ed7953"
            ],
            [
             0.7777777777777778,
             "#fb9f3a"
            ],
            [
             0.8888888888888888,
             "#fdca26"
            ],
            [
             1,
             "#f0f921"
            ]
           ]
          },
          "colorway": [
           "#636efa",
           "#EF553B",
           "#00cc96",
           "#ab63fa",
           "#FFA15A",
           "#19d3f3",
           "#FF6692",
           "#B6E880",
           "#FF97FF",
           "#FECB52"
          ],
          "font": {
           "color": "#2a3f5f"
          },
          "geo": {
           "bgcolor": "white",
           "lakecolor": "white",
           "landcolor": "#E5ECF6",
           "showlakes": true,
           "showland": true,
           "subunitcolor": "white"
          },
          "hoverlabel": {
           "align": "left"
          },
          "hovermode": "closest",
          "mapbox": {
           "style": "light"
          },
          "paper_bgcolor": "white",
          "plot_bgcolor": "#E5ECF6",
          "polar": {
           "angularaxis": {
            "gridcolor": "white",
            "linecolor": "white",
            "ticks": ""
           },
           "bgcolor": "#E5ECF6",
           "radialaxis": {
            "gridcolor": "white",
            "linecolor": "white",
            "ticks": ""
           }
          },
          "scene": {
           "xaxis": {
            "backgroundcolor": "#E5ECF6",
            "gridcolor": "white",
            "gridwidth": 2,
            "linecolor": "white",
            "showbackground": true,
            "ticks": "",
            "zerolinecolor": "white"
           },
           "yaxis": {
            "backgroundcolor": "#E5ECF6",
            "gridcolor": "white",
            "gridwidth": 2,
            "linecolor": "white",
            "showbackground": true,
            "ticks": "",
            "zerolinecolor": "white"
           },
           "zaxis": {
            "backgroundcolor": "#E5ECF6",
            "gridcolor": "white",
            "gridwidth": 2,
            "linecolor": "white",
            "showbackground": true,
            "ticks": "",
            "zerolinecolor": "white"
           }
          },
          "shapedefaults": {
           "line": {
            "color": "#2a3f5f"
           }
          },
          "ternary": {
           "aaxis": {
            "gridcolor": "white",
            "linecolor": "white",
            "ticks": ""
           },
           "baxis": {
            "gridcolor": "white",
            "linecolor": "white",
            "ticks": ""
           },
           "bgcolor": "#E5ECF6",
           "caxis": {
            "gridcolor": "white",
            "linecolor": "white",
            "ticks": ""
           }
          },
          "title": {
           "x": 0.05
          },
          "xaxis": {
           "automargin": true,
           "gridcolor": "white",
           "linecolor": "white",
           "ticks": "",
           "title": {
            "standoff": 15
           },
           "zerolinecolor": "white",
           "zerolinewidth": 2
          },
          "yaxis": {
           "automargin": true,
           "gridcolor": "white",
           "linecolor": "white",
           "ticks": "",
           "title": {
            "standoff": 15
           },
           "zerolinecolor": "white",
           "zerolinewidth": 2
          }
         }
        }
       }
      }
     },
     "metadata": {},
     "output_type": "display_data"
    }
   ],
   "source": [
    "import plotly.graph_objects as go\n",
    "\n",
    "v1= np.array([3,5,1])\n",
    "v2 = np.array([0, 2, 2])\n",
    "\n",
    "scalar = np.random.uniform(low=xlim[0], high=xlim[1], size=(100,2))\n",
    "points = np.zeros((100, 3))\n",
    "\n",
    "for i in range(len(scalar)):\n",
    "    points[i, :] = v1 * scalar[i, 0] + v2 * scalar[i, 1]\n",
    "\n",
    "fig = go.Figure( data=[go.Scatter3d(x=points[:,0], y=points[:,1], z=points[:,2], \n",
    "                                    mode='markers', marker=dict(size=6,color='black') )])\n",
    "fig.update_layout(margin=dict(l=0,r=0,b=0,t=0))\n",
    "# plt.savefig('Figure_02_07b.png',dpi=300)\n",
    "fig.show()\n"
   ]
  },
  {
   "cell_type": "code",
   "execution_count": null,
   "metadata": {},
   "outputs": [],
   "source": []
  }
 ],
 "metadata": {
  "kernelspec": {
   "display_name": "venv",
   "language": "python",
   "name": "python3"
  },
  "language_info": {
   "codemirror_mode": {
    "name": "ipython",
    "version": 3
   },
   "file_extension": ".py",
   "mimetype": "text/x-python",
   "name": "python",
   "nbconvert_exporter": "python",
   "pygments_lexer": "ipython3",
   "version": "3.11.2"
  }
 },
 "nbformat": 4,
 "nbformat_minor": 2
}
