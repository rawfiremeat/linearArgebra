{
 "cells": [
  {
   "cell_type": "code",
   "execution_count": null,
   "metadata": {},
   "outputs": [],
   "source": [
    "import numpy as np\n",
    "from matplotlib import pyplot as plt\n"
   ]
  },
  {
   "cell_type": "markdown",
   "metadata": {},
   "source": [
    "# 3-1"
   ]
  },
  {
   "cell_type": "code",
   "execution_count": null,
   "metadata": {},
   "outputs": [],
   "source": [
    "def computecorrcoefNcosine(x, y):\n",
    "    num = np.dot(x,y)\n",
    "    cos = num / (np.linalg.norm(x) * np.linalg.norm(y))\n",
    "    \n",
    "    xm = x - np.mean(x)\n",
    "    ym = y - np.mean(y)\n",
    "    cor = np.dot(xm, ym) / (np.linalg.norm(xm) * np.linalg.norm(ym))\n",
    "    \n",
    "    return cor, cos\n",
    "\n",
    "a = np.random.randn(15)\n",
    "b = np.random.randn(15)\n",
    "\n",
    "cor, cos = computecorrcoefNcosine(a, b)\n",
    "\n",
    "print(cor, np.corrcoef(a, b))\n"
   ]
  },
  {
   "cell_type": "markdown",
   "metadata": {},
   "source": [
    "# 3 - 2"
   ]
  },
  {
   "cell_type": "code",
   "execution_count": null,
   "metadata": {},
   "outputs": [],
   "source": [
    "a = np.arange(4, dtype=float)\n",
    "offsets = np.arange(-50,51)\n",
    "\n",
    "\n",
    "result = np.zeros((len(offsets), 2))\n",
    "\n",
    "for i in range(len(offsets)):\n",
    "    result[i,:] = computecorrcoefNcosine(a, a + offsets[i])\n",
    "    # (a, a+ -50), (a, a + -49),(a, a + -48),(a, a + -47),(a, a + -46),\n",
    "plt.figure(figsize=(8,4))\n",
    "h = plt.plot(offsets,result)\n",
    "h[0].set_color('k')\n",
    "h[0].set_marker('o')\n",
    "h[1].set_color([.7, .7, .7])\n",
    "h[1].set_marker('s')\n",
    "\n",
    "plt.xlabel('Mean offset')\n",
    "plt.ylabel('r or c')\n",
    "plt.legend(['Pearson','Cosine sim.'])\n",
    "# plt.savefig('Figure_03_02.png',dpi=300) # write out the fig to a file\n",
    "plt.show()"
   ]
  },
  {
   "cell_type": "markdown",
   "metadata": {},
   "source": [
    "# 3-3\n"
   ]
  },
  {
   "cell_type": "code",
   "execution_count": null,
   "metadata": {},
   "outputs": [],
   "source": [
    "from scipy.stats import pearsonr\n",
    "\n",
    "pearsonr"
   ]
  },
  {
   "cell_type": "markdown",
   "metadata": {},
   "source": [
    "# 3-4\n",
    "\n"
   ]
  },
  {
   "cell_type": "code",
   "execution_count": null,
   "metadata": {},
   "outputs": [],
   "source": [
    "import time\n",
    "\n",
    "def myCorrcoef(x, y):\n",
    "    difx = x - np.mean(x)\n",
    "    dify = y - np.mean(y)\n",
    "    correff = np.dot(difx, dify) / (np.linalg.norm(difx) * np.linalg.norm(difx))\n",
    "    \n",
    "    return correff\n",
    "\n",
    "start = time.time()\n",
    "\n",
    "for i in range(1000):\n",
    "    x = np.random.randn(500,2)\n",
    "    print(myCorrcoef(x[:, 0], x[:, 1]))\n",
    "    \n",
    "\n",
    "end = time.time()\n",
    "\n",
    "ret1 = end - start\n",
    "\n",
    "start = time.time()\n",
    "\n",
    "for i in range(1000):\n",
    "    x = np.random.randn(500,2)\n",
    "    print(np.corrcoef(x[:, 0], x[:, 1]))\n",
    "\n",
    "end = time.time()\n",
    "\n",
    "ret2 = end - start\n",
    "print(ret1, ret2)"
   ]
  },
  {
   "cell_type": "code",
   "execution_count": null,
   "metadata": {},
   "outputs": [],
   "source": []
  },
  {
   "cell_type": "markdown",
   "metadata": {},
   "source": [
    "# 3-5\n"
   ]
  },
  {
   "cell_type": "code",
   "execution_count": null,
   "metadata": {},
   "outputs": [],
   "source": [
    "kernel = np.array([-1, 1])\n",
    "signal = np.zeros(30)\n",
    "signal[10:20] = 1\n",
    "\n",
    "# _, axes = plt.subplots(1,2,figsize = (12, 4))\n",
    "# axes[0].plot(kernel, 'ks-')\n",
    "# axes[0].set_title('Kernel')\n",
    "# axes[0].set_xlim([-15,15])\n",
    "\n",
    "# axes[1].plot(signal, 'ks-')\n",
    "# axes[1].set_title('sinal')\n",
    "\n",
    "\n",
    "plt.show()"
   ]
  },
  {
   "cell_type": "code",
   "execution_count": null,
   "metadata": {},
   "outputs": [],
   "source": [
    "ret = np.zeros(30)\n",
    "for i in range(1, len(signal) - 1): # 중요\n",
    "    ret[i] = np.dot(signal[i - 1: i + 1], kernel)   # 합성곱 ==> 000000\n",
    "_,axs = plt.subplots(1,2,figsize=(12,4))\n",
    "axs[0].plot(kernel,'ks-')\n",
    "axs[0].set_title('Kernel')\n",
    "axs[0].set_xlim([-15,15])\n",
    "axs[1].plot(signal,'ks-',label='Signal',linewidth=3)\n",
    "markers,stemlines,_ = axs[1].stem(range(len(ret)),ret,\n",
    "                                  basefmt=' ',linefmt='',markerfmt='o',\n",
    "                                  label='Edge detection') # ret 을 stem 스타일로 표시\n",
    "\n",
    "plt.setp(stemlines,'color',[.7,.7,.7])\n",
    "plt.setp(markers,'color',[.7,.7,.7])\n",
    "\n",
    "axs[1].legend()\n",
    "plt.show()"
   ]
  },
  {
   "cell_type": "markdown",
   "metadata": {},
   "source": [
    "# 3-6"
   ]
  },
  {
   "cell_type": "code",
   "execution_count": null,
   "metadata": {},
   "outputs": [],
   "source": [
    "kernel = np.array([0,.1,.3,.8,1,.8,.3,.1,0])\n",
    "kernel = kernel / np.sum(kernel)\n",
    "signal = np.random.randn(100) #가우시안 난수\n",
    "ret = np.zeros(100)\n",
    "for i in range(4, len(signal) - 5): # 중요\n",
    "    ret[i] = np.dot(signal[i - 4: i + 5], kernel) \n",
    "      \n",
    "_,axs = plt.subplots(1,2,figsize=(12,4))\n",
    "axs[0].plot(kernel,'ks-')\n",
    "axs[0].set_title('Kernel')\n",
    "axs[0].set_xlim([-15,15])\n",
    "axs[1].plot(signal,'ks-',label='Signal',linewidth=3)\n",
    "axs[1].plot(ret, )\n",
    "\n",
    "\n",
    "plt.show()"
   ]
  },
  {
   "cell_type": "markdown",
   "metadata": {},
   "source": [
    "# 3-7\n"
   ]
  },
  {
   "cell_type": "code",
   "execution_count": null,
   "metadata": {},
   "outputs": [],
   "source": [
    "kernel = np.array([0,.1,.3,.8,-1,.8,.3,.1,0])\n",
    "kernel = kernel / np.sum(kernel)\n",
    "signal = np.random.randn(100) #가우시안 난수\n",
    "ret = np.zeros(100)\n",
    "for i in range(4, len(signal) - 5): # 중요\n",
    "    ret[i] = np.dot(signal[i - 4: i + 5], kernel) \n",
    "      \n",
    "_,axs = plt.subplots(1,2,figsize=(12,4))\n",
    "axs[0].plot(kernel,'ks-')\n",
    "axs[0].set_title('Kernel')\n",
    "axs[0].set_xlim([-15,15])\n",
    "axs[1].plot(signal,'ks-',label='Signal',linewidth=3)\n",
    "axs[1].plot(ret, )"
   ]
  },
  {
   "cell_type": "markdown",
   "metadata": {},
   "source": [
    "# 3-8\n"
   ]
  },
  {
   "cell_type": "code",
   "execution_count": null,
   "metadata": {},
   "outputs": [],
   "source": [
    "nPerClust = 50\n",
    "\n",
    "# blur around centroid (std units)\n",
    "blur = 1\n",
    "\n",
    "# XY centroid locations\n",
    "A = [  1, 1 ]\n",
    "B = [ -3, 1 ]\n",
    "C = [  3, 3 ]\n",
    "\n",
    "# generate data\n",
    "# 각 점 ABC로 부터 랜덤하게 떨어져있는 abc 점 50개씩 생성\n",
    "a = [ A[0]+np.random.randn(nPerClust)*blur , A[1]+np.random.randn(nPerClust)*blur ]\n",
    "b = [ B[0]+np.random.randn(nPerClust)*blur , B[1]+np.random.randn(nPerClust)*blur ]\n",
    "c = [ C[0]+np.random.randn(nPerClust)*blur , C[1]+np.random.randn(nPerClust)*blur ]\n",
    "\n",
    "# concatanate into a matrix\n",
    "data = np.transpose( np.concatenate((a,b,c),axis=1) )\n",
    "\n",
    "\n",
    "# plot data\n",
    "plt.plot(data[:,0],data[:,1],'ko',markerfacecolor='w')\n",
    "plt.title('Raw (preclustered) data')\n",
    "plt.xticks([])\n",
    "plt.yticks([])\n",
    "\n",
    "plt.show()"
   ]
  },
  {
   "cell_type": "code",
   "execution_count": null,
   "metadata": {},
   "outputs": [],
   "source": [
    "## initialize random cluster centroids\n",
    "k = 4 # extract three clusters\n",
    "\n",
    "# random cluster centers (randomly sampled data points)\n",
    "# 데이터 중에 하나 뽑아서 센터 중심점으로 초기화\n",
    "ridx = np.random.choice(range(len(data)),k,replace=False)\n",
    "centroids = data[ridx,:]\n",
    "\n",
    "\n",
    "# setup the figure\n",
    "fig,axs = plt.subplots(2,2,figsize=(6,6))\n",
    "axs = axs.flatten()\n",
    "lineColors = [ [0,0,0],[.4,.4,.4],[.8,.8,.8] ]#'rbm'\n",
    "\n",
    "\n",
    "# plot data with initial random cluster centroids\n",
    "axs[0].plot(data[:,0],data[:,1],'ko',markerfacecolor='w')\n",
    "axs[0].plot(centroids[:,0],centroids[:,1],'ko')\n",
    "axs[0].set_title('Iteration 0')\n",
    "axs[0].set_xticks([])\n",
    "axs[0].set_yticks([])\n",
    "\n",
    "\n",
    "\n",
    "# loop over iterations\n",
    "for iteri in range(3):\n",
    "    \n",
    "  # step 1: compute distances\n",
    "  # 거리 배열 초기화 (data 개수, 집단 개수)\n",
    "  dists = np.zeros((data.shape[0],k))\n",
    "  for ci in range(k):\n",
    "    # 데이터랑 집군 중심점이랑 x, y 의 차이의 제곱합\n",
    "    dists[:,ci] = np.sum((data-centroids[ci,:])**2,axis=1)\n",
    "        \n",
    "  # step 2: assign to group based on minimum distance\n",
    "  #가장 가까운 데이터 인덱스\n",
    "  groupidx = np.argmin(dists,axis=1)\n",
    "    \n",
    "  # step 3: recompute centers\n",
    "  for ki in range(k):\n",
    "    # groupidx와 같은 인덱스의 데이터의 x, y 점의 평균을 다시 중심점으로 초기화 \n",
    "    centroids[ki,:] = [ np.mean(data[groupidx==ki,0]), np.mean(data[groupidx==ki,1]) ]\n",
    "  \n",
    "\n",
    "  # plot data points\n",
    "  for i in range(len(data)):\n",
    "    axs[iteri+1].plot([ data[i,0],centroids[groupidx[i],0] ],[ data[i,1],centroids[groupidx[i],1] ],color=lineColors[groupidx[i]])\n",
    "  axs[iteri+1].plot(centroids[:,0],centroids[:,1],'ko')\n",
    "  axs[iteri+1].set_title(f'Iteration {iteri+1}')\n",
    "  axs[iteri+1].set_xticks([])\n",
    "  axs[iteri+1].set_yticks([])\n",
    "\n",
    "\n",
    "# plt.savefig('Figure_03_03.png',dpi=300)\n",
    "plt.show()"
   ]
  }
 ],
 "metadata": {
  "kernelspec": {
   "display_name": "venv",
   "language": "python",
   "name": "python3"
  },
  "language_info": {
   "codemirror_mode": {
    "name": "ipython",
    "version": 3
   },
   "file_extension": ".py",
   "mimetype": "text/x-python",
   "name": "python",
   "nbconvert_exporter": "python",
   "pygments_lexer": "ipython3",
   "version": "3.11.2"
  }
 },
 "nbformat": 4,
 "nbformat_minor": 2
}
